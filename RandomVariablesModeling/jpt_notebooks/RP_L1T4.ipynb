{
 "cells": [
  {
   "cell_type": "markdown",
   "id": "c9ab13c4",
   "metadata": {},
   "source": [
    "# Завдання №4"
   ]
  },
  {
   "cell_type": "code",
   "execution_count": 1,
   "id": "67de465b",
   "metadata": {},
   "outputs": [],
   "source": [
    "import numpy as np\n",
    "import math"
   ]
  },
  {
   "cell_type": "markdown",
   "id": "9941bcf5",
   "metadata": {},
   "source": [
    "###  Обчислити методом Монте-Карло визначені інтеграли. Моделювання проводити за алгоритмом:"
   ]
  },
  {
   "cell_type": "markdown",
   "id": "85e45f65",
   "metadata": {},
   "source": [
    "### Змоделювати послідовність з n =1000000 псевдовипадкових чисел, що рівномірно розподілені на інтервалі інтегрування."
   ]
  },
  {
   "cell_type": "code",
   "execution_count": 2,
   "id": "5336e7b6",
   "metadata": {},
   "outputs": [],
   "source": [
    "n = 1000000"
   ]
  },
  {
   "cell_type": "code",
   "execution_count": 3,
   "id": "ea838c31",
   "metadata": {},
   "outputs": [],
   "source": [
    "def f1(x):\n",
    "    return x**7+x**5+x**3"
   ]
  },
  {
   "cell_type": "code",
   "execution_count": 4,
   "id": "574310dc",
   "metadata": {},
   "outputs": [],
   "source": [
    "def f2(x):\n",
    "    return 2*math.sin(3*x)"
   ]
  },
  {
   "cell_type": "code",
   "execution_count": 5,
   "id": "f0797149",
   "metadata": {},
   "outputs": [],
   "source": [
    "def f3(x):\n",
    "    return 1/((x+1)*math.sqrt(x))"
   ]
  },
  {
   "cell_type": "code",
   "execution_count": 6,
   "id": "3609c32d",
   "metadata": {},
   "outputs": [],
   "source": [
    "def monte_carlo(f, a, b, n):\n",
    "    mult_value = (b-a)/n\n",
    "    sum = 0\n",
    "    for i in range(1, n):\n",
    "        x = np.random.uniform(a, b)\n",
    "        sum += f(x)\n",
    "    return mult_value*sum"
   ]
  },
  {
   "cell_type": "markdown",
   "id": "ef2b050a",
   "metadata": {},
   "source": [
    "### Обчислити інтеграл за формулою: ${I=\\frac{b-a}{n}\\sum\\limits_{j=1}^{n}f(\\xi_i)}$, де a, b - межі інтегрування."
   ]
  },
  {
   "cell_type": "code",
   "execution_count": 7,
   "id": "fcae1f51",
   "metadata": {},
   "outputs": [
    {
     "name": "stdout",
     "output_type": "stream",
     "text": [
      "Integral #1 is equal to: 0.5421015621262727\n",
      "Integral #2 is equal to: 1.3360361413079198\n",
      "Integral #3 is equal to: 3.128269864789127\n"
     ]
    }
   ],
   "source": [
    "print(f'Integral #1 is equal to: {monte_carlo(f1, 0, 1, n)}\\n'\n",
    "      f'Integral #2 is equal to: {monte_carlo(f2, 0, math.pi, n)}\\n'\n",
    "      f'Integral #3 is equal to: {monte_carlo(f3, 0, 2000, n)}')"
   ]
  },
  {
   "cell_type": "markdown",
   "id": "78a72571",
   "metadata": {},
   "source": [
    "### Пояснити отримані результати."
   ]
  },
  {
   "cell_type": "markdown",
   "id": "4f1d3009",
   "metadata": {},
   "source": [
    "Отримані значення для першого та другого інтегралів є максимально наближеними до точних. \n",
    "Значення третього інтегралу повинно приблизно дорівнювати $\\pi=3.14$. Оскільки ми не можемо застосовувати метод Монте-Карло до інтервалів, одним з кінців яких є нескінченність, то для верхньої межі третього інтегралу обираємо довільне велике число. При збільшенні верхньої межі точність буде спочатку зростати, досягне деякої максимальної точки і далі почне спадати при фіксованому значенні n. Випадково вибраних точок n буде недостатньо, якщо постійно збільшувати значення b і не змінювати n."
   ]
  }
 ],
 "metadata": {
  "kernelspec": {
   "display_name": "myenv",
   "language": "python",
   "name": "myenv"
  },
  "language_info": {
   "codemirror_mode": {
    "name": "ipython",
    "version": 3
   },
   "file_extension": ".py",
   "mimetype": "text/x-python",
   "name": "python",
   "nbconvert_exporter": "python",
   "pygments_lexer": "ipython3",
   "version": "3.9.1"
  }
 },
 "nbformat": 4,
 "nbformat_minor": 5
}
