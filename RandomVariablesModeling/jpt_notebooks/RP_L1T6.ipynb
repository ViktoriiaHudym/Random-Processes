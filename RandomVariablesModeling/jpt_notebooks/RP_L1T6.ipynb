{
 "cells": [
  {
   "cell_type": "markdown",
   "id": "94d7b85b",
   "metadata": {},
   "source": [
    "# Завдання №6"
   ]
  },
  {
   "cell_type": "markdown",
   "id": "bb53c814",
   "metadata": {},
   "source": [
    "### Задано N кіл (відомі координати центра та радіус). Перевірити, чи мають ці кола спільні точки. Знайти площу фігури, що утворилась в результаті їх перетину."
   ]
  },
  {
   "cell_type": "code",
   "execution_count": 1,
   "id": "843be0d1",
   "metadata": {},
   "outputs": [],
   "source": [
    "import numpy as np\n",
    "import matplotlib.pyplot as plt\n",
    "import math\n",
    "from itertools import combinations"
   ]
  },
  {
   "attachments": {
    "photo_2021-10-17_19-54-54.jpg": {
     "image/jpeg": "[encoded data removed]"
    }
   },
   "cell_type": "markdown",
   "id": "fdcaa394",
   "metadata": {},
   "source": [
    "Координати центра та радіуси кіл будемо записувати у файл з назвою 'circles.txt' та зчитувати з нього дані у двовимірний масив за допомогою функції read_file(filename). На момент виконання вміст цього файлу наступний: ![photo_2021-10-17_19-54-54.jpg](attachment:photo_2021-10-17_19-54-54.jpg)"
   ]
  },
  {
   "cell_type": "code",
   "execution_count": 2,
   "id": "6acc3ee9",
   "metadata": {},
   "outputs": [],
   "source": [
    "file = 'circles.txt'"
   ]
  },
  {
   "cell_type": "code",
   "execution_count": 3,
   "id": "5b9f599f",
   "metadata": {},
   "outputs": [],
   "source": [
    "def read_file(filename):\n",
    "    with open(filename) as f:\n",
    "        array = []\n",
    "        for line in f:\n",
    "            array.append([float(x) for x in line.split()])\n",
    "    return array"
   ]
  },
  {
   "cell_type": "code",
   "execution_count": 4,
   "id": "48ecf9b3",
   "metadata": {},
   "outputs": [],
   "source": [
    "circles_data = read_file(file)"
   ]
  },
  {
   "cell_type": "markdown",
   "id": "ca95e8c3",
   "metadata": {},
   "source": [
    "Знайдемо усі комбінації пар заданих кіл"
   ]
  },
  {
   "cell_type": "code",
   "execution_count": 5,
   "id": "95a431ca",
   "metadata": {},
   "outputs": [],
   "source": [
    "n = len(circles_data)\n",
    "k = 2\n",
    "comb_list = list(combinations(circles_data, k))"
   ]
  },
  {
   "cell_type": "markdown",
   "id": "7bae9e89",
   "metadata": {},
   "source": [
    "Визначаємо чи пари кіл зі списку comb_list перетинаються. Для цього знаходимо відстань між центрами цих кіл і якщо ця відстань буде меншою за суму радіусів кіл, тоді вони перетинаються. N кіл не будуть перетинатися, якщо хоча б одна з пар не перетинається"
   ]
  },
  {
   "cell_type": "code",
   "execution_count": 6,
   "id": "edf916b6",
   "metadata": {},
   "outputs": [],
   "source": [
    "intersect_bool = []\n",
    "for circles_pair in comb_list:\n",
    "    x1, y1, r1 = circles_pair[0]\n",
    "    x2, y2, r2 = circles_pair[1]\n",
    "\n",
    "    distance = ((x1 - x2) ** 2 + (y1 - y2) ** 2) ** 0.5\n",
    "    if distance <= r1 + r2:\n",
    "        intersect_bool.append(True)\n",
    "    else:\n",
    "        intersect_bool.append(False)"
   ]
  },
  {
   "cell_type": "markdown",
   "id": "f48ce069",
   "metadata": {},
   "source": [
    "Записуємо функцію graph(data, graph_type=None, smallest=None, points=None), яка приймає список кіл з їхніми центрами та радіусами, тип графіку (None - просто кола, 1 - кола та обриси квадрата, що описаний навколо найменшого кола, 2 - випадково згенеровані точки всередині квадрату), найменше коло та випадково згенеровані точки"
   ]
  },
  {
   "cell_type": "code",
   "execution_count": 7,
   "id": "bf85fde6",
   "metadata": {},
   "outputs": [],
   "source": [
    "def graph(data, graph_type=None, smallest=None, points=None):\n",
    "    figure, ax = plt.subplots()\n",
    "    ax.set_aspect('equal')\n",
    "    for circle in data:\n",
    "        ax.add_artist(plt.Circle((circle[0], circle[1]), circle[2],\n",
    "                                 color='r', alpha=.2))\n",
    "    ax.set_xlim(-3, 8)\n",
    "    ax.set_ylim(-3, 8)\n",
    "    ax.grid(linewidth=0.2)\n",
    "\n",
    "    if graph_type == '1':\n",
    "        side = 2 * smallest[2]\n",
    "        x_lb = smallest[0] - side / 2\n",
    "        y_lb = smallest[1] - side / 2\n",
    "        square = plt.Rectangle((x_lb, y_lb), side, side,\n",
    "                               fc='none', ec='black', lw=0.5)\n",
    "        ax.add_artist(square)\n",
    "\n",
    "    if graph_type == '2':\n",
    "        x, y = list(zip(*points))\n",
    "        plt.scatter(x, y, color='black', s=0.05)\n",
    "\n",
    "    plt.show()"
   ]
  },
  {
   "cell_type": "markdown",
   "id": "dd40cfed",
   "metadata": {},
   "source": [
    "Вводимо функцію MonteCarlo(), яка обчислює потрібну площу. Маємо ще декілька функцій всередині MonteCarlo(): \n",
    "    find_smallest_circle(data) - для знаходження найменшого кола зі списку усіх кіл\n",
    "    generate_points(a, b, radius, n) - для генерування випадкових чисел, використовується функція np.random.uniform; повертається список з пар точок (x, y)\n",
    "    points_in_intersection(xy, data) - для знаходження точок, що увійшли в перетин; виконується перевірка чи належить точка усім колам: якщо так - залишається у списку, ні - видаляється; умова задається наступна: $(x - x_{центр})^2 + (y - y_{центр})^2 < r^2$, де $x_{центр}, y_{центр}$ - координати точки центра кола, $x, y$ - координати точки, яку перевіряємо на входження, $r$ - радіус кола\n",
    "   \n",
    "Обчислюємо довжину списку inside_intersection, що є списком точок, які увійшли в перетин, і отримуємо їх кількість. Знаходимо площу квадрата, що описаний навколо найменшого кола за формулою: $S = (2r)^2$, де $r$ - радіус найменшого кола. І, нарешті, обчислюємо площу перетину: $S_{перетин} = S \\frac{n}{N}$, де $n$ - кількість точок, що увійшли в перетин, $N$ - загальна кількість точок, у даному випадку N = 100 000"
   ]
  },
  {
   "cell_type": "code",
   "execution_count": 8,
   "id": "7fe7f045",
   "metadata": {},
   "outputs": [],
   "source": [
    "def MonteCarlo():\n",
    "    graph(circles_data)\n",
    "\n",
    "    def find_smallest_circle(data):\n",
    "        R = []\n",
    "        for i in range(len(data)):\n",
    "            R.append(data[i][2])\n",
    "        min_radius = min(R)\n",
    "\n",
    "        return data[R.index(min_radius)]\n",
    "\n",
    "    def generate_points(a, b, radius, n):\n",
    "        xr = np.random.uniform(a - radius, a + radius, n)\n",
    "        yr = np.random.uniform(b - radius, b + radius, n)\n",
    "        return list(zip(xr, yr))\n",
    "\n",
    "    def points_in_intersection(xy, data):\n",
    "        result = []\n",
    "        x_point, y_point = list(zip(*xy))\n",
    "        center_x, center_y, radius = list(zip(*data))\n",
    "        for i in range(len(x_point)):\n",
    "            result.append([x_point[i], y_point[i]])\n",
    "            for j in range(len(data)):\n",
    "                if ((x_point[i] - center_x[j])**2 + (y_point[i] - center_y[j])**2) >= (radius[j] ** 2):\n",
    "                    result.pop(-1)\n",
    "                    break\n",
    "        return result\n",
    "\n",
    "    smallest_circle = find_smallest_circle(circles_data)\n",
    "    x, y, r = smallest_circle\n",
    "    graph(circles_data, '1', smallest=smallest_circle)\n",
    "\n",
    "    m = 1000000\n",
    "    xy_random = generate_points(x, y, r, m)\n",
    "    graph(circles_data, '2', points=xy_random)\n",
    "\n",
    "    inside_intersection = points_in_intersection(xy_random, circles_data)\n",
    "    graph(circles_data, '2', points=inside_intersection)\n",
    "    \n",
    "    points_amount = len(inside_intersection)\n",
    "    S = (2 * r) ** 2\n",
    "    s = S * points_amount / m\n",
    "\n",
    "    print(f'\\nThe radius of the smallest circle is equal to: {r}\\n'\n",
    "          f'The area of the square is equal to: {S}\\n'\n",
    "          f'Out of {m} points, {points_amount} got inside the intersection of the circles\\n'\n",
    "          f'The area of the circles intersection is equal to: {s}')"
   ]
  },
  {
   "cell_type": "code",
   "execution_count": 9,
   "id": "017e22b3",
   "metadata": {},
   "outputs": [
    {
     "name": "stdout",
     "output_type": "stream",
     "text": [
      "\n",
      "The circles intersect\n"
     ]
    },
    {
     "data": {
      "image/png": "[encoded data removed]",
      "text/plain": [
       "<Figure size 432x288 with 1 Axes>"
      ]
     },
     "metadata": {
      "needs_background": "light"
     },
     "output_type": "display_data"
    },
    {
     "data": {
      "image/png": "[encoded data removed]",
      "text/plain": [
       "<Figure size 432x288 with 1 Axes>"
      ]
     },
     "metadata": {
      "needs_background": "light"
     },
     "output_type": "display_data"
    },
    {
     "data": {
      "image/png": "[encoded data removed]",
      "text/plain": [
       "<Figure size 432x288 with 1 Axes>"
      ]
     },
     "metadata": {
      "needs_background": "light"
     },
     "output_type": "display_data"
    },
    {
     "data": {
      "image/png": "[encoded data removed]",
      "text/plain": [
       "<Figure size 432x288 with 1 Axes>"
      ]
     },
     "metadata": {
      "needs_background": "light"
     },
     "output_type": "display_data"
    },
    {
     "name": "stdout",
     "output_type": "stream",
     "text": [
      "\n",
      "The radius of the smallest circle is equal to: 2.0\n",
      "The area of the square is equal to: 16.0\n",
      "Out of 1000000 points, 53295 got inside the intersection of the circles\n",
      "The area of the circles intersection is equal to: 0.85272\n"
     ]
    }
   ],
   "source": [
    "if __name__ == '__main__':\n",
    "    if all(intersect_bool):\n",
    "        print(f'\\nThe circles intersect')\n",
    "        MonteCarlo()\n",
    "    else:\n",
    "        print(f'\\nThe circles NOT intersect')\n",
    "        exit(1)"
   ]
  }
 ],
 "metadata": {
  "kernelspec": {
   "display_name": "myenv",
   "language": "python",
   "name": "myenv"
  },
  "language_info": {
   "codemirror_mode": {
    "name": "ipython",
    "version": 3
   },
   "file_extension": ".py",
   "mimetype": "text/x-python",
   "name": "python",
   "nbconvert_exporter": "python",
   "pygments_lexer": "ipython3",
   "version": "3.9.1"
  }
 },
 "nbformat": 4,
 "nbformat_minor": 5
}
