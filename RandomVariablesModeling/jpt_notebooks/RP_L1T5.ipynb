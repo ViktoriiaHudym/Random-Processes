{
 "cells": [
  {
   "cell_type": "markdown",
   "id": "1e1cc9e7",
   "metadata": {},
   "source": [
    "# Завдання №5"
   ]
  },
  {
   "cell_type": "markdown",
   "id": "b099add2",
   "metadata": {},
   "source": [
    "### Змоделювати випадкову двійкову послідовність за заданою формулою, де {$\\xi$i, i=1...n} нормальнорозподілені випадкові величини з параметрами N(0,1)."
   ]
  },
  {
   "cell_type": "code",
   "execution_count": 1,
   "id": "83d3f89f",
   "metadata": {},
   "outputs": [],
   "source": [
    "import numpy as np\n",
    "import matplotlib.pyplot as plt\n",
    "from scipy.stats import kstest"
   ]
  },
  {
   "cell_type": "code",
   "execution_count": 2,
   "id": "a7b5f25b",
   "metadata": {},
   "outputs": [],
   "source": [
    "n = 100001\n",
    "mu = 0\n",
    "sigma = 1\n",
    "E = mu + sigma*np.random.standard_normal(size=n)"
   ]
  },
  {
   "cell_type": "markdown",
   "id": "b364ad76",
   "metadata": {},
   "source": [
    "Створюємо випадкову двійкову послідовність $\\beta_i$: "
   ]
  },
  {
   "cell_type": "code",
   "execution_count": 3,
   "id": "58ea150e",
   "metadata": {},
   "outputs": [],
   "source": [
    "beta = np.array([])\n",
    "\n",
    "for i in np.arange(n-1, step=1):\n",
    "    if E[i+1] - E[i] > 0:\n",
    "        beta = np.append(beta, [1])\n",
    "    else:\n",
    "        beta = np.append(beta, [0])\n",
    "\n",
    "beta = beta.astype(int)"
   ]
  },
  {
   "cell_type": "markdown",
   "id": "f9918829",
   "metadata": {},
   "source": [
    "Рахуємо кількість нулів та одиниць у послідовності:"
   ]
  },
  {
   "cell_type": "code",
   "execution_count": 4,
   "id": "f5765c25",
   "metadata": {},
   "outputs": [],
   "source": [
    "zero_one = np.bincount(beta)\n",
    "zero, one = zero_one[0], zero_one[1]"
   ]
  },
  {
   "cell_type": "markdown",
   "id": "20ca3382",
   "metadata": {},
   "source": [
    "Обчислюємо частоту появи нулів та одиниць:"
   ]
  },
  {
   "cell_type": "code",
   "execution_count": 5,
   "id": "8be21dd2",
   "metadata": {},
   "outputs": [],
   "source": [
    "freq_0 = zero / len(beta)\n",
    "freq_1 = one / len(beta)"
   ]
  },
  {
   "cell_type": "markdown",
   "id": "5a95b091",
   "metadata": {},
   "source": [
    "Виводимо результати на екран: "
   ]
  },
  {
   "cell_type": "code",
   "execution_count": 6,
   "id": "76f690f5",
   "metadata": {},
   "outputs": [
    {
     "name": "stdout",
     "output_type": "stream",
     "text": [
      "Amount of zero`s is 50059\n",
      "Amount of one`s is 49941\n",
      "Frequency of zero`s is 0.50059\n",
      "Frequency of one`s is 0.49941\n"
     ]
    }
   ],
   "source": [
    "print(f'Amount of zero`s is {zero}\\nAmount of one`s is {one}')\n",
    "print(f'Frequency of zero`s is {freq_0}\\nFrequency of one`s is {freq_1}')"
   ]
  },
  {
   "cell_type": "markdown",
   "id": "1d74a6bb",
   "metadata": {},
   "source": [
    "### Знайти емпіричний закон розподілу двійкової послідовності. "
   ]
  },
  {
   "cell_type": "code",
   "execution_count": 7,
   "id": "45733496",
   "metadata": {},
   "outputs": [
    {
     "data": {
      "image/png": "[encoded data removed]",
      "text/plain": [
       "<Figure size 432x288 with 1 Axes>"
      ]
     },
     "metadata": {
      "needs_background": "light"
     },
     "output_type": "display_data"
    }
   ],
   "source": [
    "fig, ax = plt.subplots()\n",
    "plt.bar([0, 1], zero_one/len(beta), tick_label=['zero', 'one'], color='#ffff80', width=0.6)\n",
    "plt.xlabel('Values')\n",
    "plt.ylabel('Frequency')\n",
    "plt.show()"
   ]
  },
  {
   "cell_type": "markdown",
   "id": "94345874",
   "metadata": {},
   "source": [
    "Перевіряємо чи величина має нормальний розподіл:"
   ]
  },
  {
   "cell_type": "code",
   "execution_count": 8,
   "id": "5c33a29c",
   "metadata": {},
   "outputs": [
    {
     "name": "stdout",
     "output_type": "stream",
     "text": [
      "p =  0.1180157935747359\n",
      "The distribution is normal: True\n"
     ]
    }
   ],
   "source": [
    "def test(data):\n",
    "    d, p = kstest(data, 'norm')\n",
    "    print('p = ', p)\n",
    "    return p > 0.05\n",
    "\n",
    "\n",
    "print(f'The distribution is normal: {test(E)}')"
   ]
  }
 ],
 "metadata": {
  "kernelspec": {
   "display_name": "myenv",
   "language": "python",
   "name": "myenv"
  },
  "language_info": {
   "codemirror_mode": {
    "name": "ipython",
    "version": 3
   },
   "file_extension": ".py",
   "mimetype": "text/x-python",
   "name": "python",
   "nbconvert_exporter": "python",
   "pygments_lexer": "ipython3",
   "version": "3.9.1"
  }
 },
 "nbformat": 4,
 "nbformat_minor": 5
}
