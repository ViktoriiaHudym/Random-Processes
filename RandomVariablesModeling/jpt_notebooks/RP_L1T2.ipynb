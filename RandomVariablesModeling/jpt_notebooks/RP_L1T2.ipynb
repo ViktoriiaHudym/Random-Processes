{
 "cells": [
  {
   "cell_type": "markdown",
   "id": "6ffee414",
   "metadata": {},
   "source": [
    "# Завдання №2"
   ]
  },
  {
   "cell_type": "code",
   "execution_count": 1,
   "id": "507a61e3",
   "metadata": {},
   "outputs": [],
   "source": [
    "import numpy as np\n",
    "import matplotlib.pyplot as plt\n",
    "import pandas as pd\n",
    "from scipy.stats import kstest"
   ]
  },
  {
   "cell_type": "code",
   "execution_count": 2,
   "id": "21e9c2fd",
   "metadata": {},
   "outputs": [],
   "source": [
    "n = 10000"
   ]
  },
  {
   "cell_type": "markdown",
   "id": "7121ccf2",
   "metadata": {},
   "source": [
    "### Змоделювати дискретну випадкову величину, задану таблицею 2, побудувати графік."
   ]
  },
  {
   "cell_type": "code",
   "execution_count": 3,
   "id": "02cea7bc",
   "metadata": {},
   "outputs": [],
   "source": [
    "xk = [2, 3, 5, 12, 21, 33, 44]\n",
    "pk = [0.1, 0.02, 0.25, 0.15, 0.35, 0.03, 0.1]"
   ]
  },
  {
   "attachments": {
    "photo_2021-10-16_17-24-47.jpg": {
     "image/jpeg": "[encoded data removed]"
    }
   },
   "cell_type": "markdown",
   "id": "d7a1a586",
   "metadata": {},
   "source": [
    "Моделюємо дискретну випадкову величину за алгоритмом: \n",
    "![photo_2021-10-16_17-24-47.jpg](attachment:photo_2021-10-16_17-24-47.jpg)"
   ]
  },
  {
   "cell_type": "markdown",
   "id": "91d16d92",
   "metadata": {},
   "source": [
    "Розбиваємо інтервал на n часткових інтервалів:"
   ]
  },
  {
   "cell_type": "code",
   "execution_count": 4,
   "id": "189c4e36",
   "metadata": {},
   "outputs": [],
   "source": [
    "steps = [0]\n",
    "for i in range(len(pk)):\n",
    "    steps.append(round(steps[i] + pk[i], 2))"
   ]
  },
  {
   "cell_type": "markdown",
   "id": "812b280e",
   "metadata": {},
   "source": [
    "Генеруємо вибірку з випадковими числами із заданого інтервалу:"
   ]
  },
  {
   "cell_type": "code",
   "execution_count": 5,
   "id": "f991c8ef",
   "metadata": {},
   "outputs": [],
   "source": [
    "R = np.random.uniform(0, 1, n)"
   ]
  },
  {
   "cell_type": "code",
   "execution_count": 6,
   "id": "83733824",
   "metadata": {},
   "outputs": [],
   "source": [
    "new_pk = []\n",
    "quantity = []\n",
    "intervals_b = []\n",
    "intervals_e = []\n",
    "\n",
    "for i in range(len(steps)-1):\n",
    "    intervals_b.append(steps[i])\n",
    "    intervals_e.append(steps[i+1])\n",
    "    x = R[(R > steps[i]) & (R < steps[i+1])]\n",
    "    q = R[(R > steps[i]) & (R < steps[i+1])].size\n",
    "    quantity.append(q)\n",
    "    new_pk.append(q/n)"
   ]
  },
  {
   "cell_type": "markdown",
   "id": "99396098",
   "metadata": {},
   "source": [
    "Будуємо графік для n = 10 000: "
   ]
  },
  {
   "cell_type": "code",
   "execution_count": 7,
   "id": "05d10b35",
   "metadata": {},
   "outputs": [
    {
     "data": {
      "image/png": "[encoded data removed]",
      "text/plain": [
       "<Figure size 432x288 with 1 Axes>"
      ]
     },
     "metadata": {
      "needs_background": "light"
     },
     "output_type": "display_data"
    }
   ],
   "source": [
    "plt.plot(R, color='black', markersize=0.05)\n",
    "plt.xlabel('n')\n",
    "plt.ylabel('X')\n",
    "plt.show()"
   ]
  },
  {
   "cell_type": "markdown",
   "id": "dfa4e5a5",
   "metadata": {},
   "source": [
    "### Оцінити математичне сподівання та дисперсію отриманої дискретної випадкової величини."
   ]
  },
  {
   "cell_type": "markdown",
   "id": "82fc139e",
   "metadata": {},
   "source": [
    "Обчислюємо математичне сподівання та дисперсію за допомогою функцій бібліотеки Numpy:"
   ]
  },
  {
   "cell_type": "code",
   "execution_count": 8,
   "id": "75a6ad7b",
   "metadata": {},
   "outputs": [],
   "source": [
    "exp = np.mean(R)\n",
    "vrc = np.var(R)"
   ]
  },
  {
   "cell_type": "code",
   "execution_count": 9,
   "id": "da0c223e",
   "metadata": {},
   "outputs": [
    {
     "name": "stdout",
     "output_type": "stream",
     "text": [
      "\n",
      "Mathematical expectation E(X): 0.49773871175821677\n",
      "The variance Var(X): 0.08386640590509353\n"
     ]
    }
   ],
   "source": [
    "print(f'\\nMathematical expectation E(X): {exp}\\n'\n",
    "      f'The variance Var(X): {vrc}')"
   ]
  },
  {
   "cell_type": "markdown",
   "id": "9b43e6dc",
   "metadata": {},
   "source": [
    "### Побудувати частотну таблицю."
   ]
  },
  {
   "cell_type": "code",
   "execution_count": 10,
   "id": "68fea41a",
   "metadata": {},
   "outputs": [],
   "source": [
    "L = len(steps) - 1"
   ]
  },
  {
   "cell_type": "code",
   "execution_count": 11,
   "id": "c1950d76",
   "metadata": {},
   "outputs": [],
   "source": [
    "frequency_table = pd.DataFrame({\n",
    "    'Left': intervals_b,\n",
    "    'Right': intervals_e,\n",
    "    'Quantity': quantity,\n",
    "    'Relative frequency': new_pk\n",
    "    }, index=pd.RangeIndex(start=1, stop=L+1))\n",
    "\n",
    "count = sum(quantity)"
   ]
  },
  {
   "cell_type": "code",
   "execution_count": 12,
   "id": "aee541b7",
   "metadata": {},
   "outputs": [
    {
     "name": "stdout",
     "output_type": "stream",
     "text": [
      "\n",
      "   Left  Right  Quantity  Relative frequency\n",
      "1  0.00   0.10      1057              0.1057\n",
      "2  0.10   0.12       208              0.0208\n",
      "3  0.12   0.37      2446              0.2446\n",
      "4  0.37   0.52      1540              0.1540\n",
      "5  0.52   0.87      3467              0.3467\n",
      "6  0.87   0.90       275              0.0275\n",
      "7  0.90   1.00      1007              0.1007\n",
      "              Sum: 10000\n"
     ]
    }
   ],
   "source": [
    "print(f'\\n{frequency_table}')\n",
    "print(f'              Sum: {count}')"
   ]
  },
  {
   "cell_type": "markdown",
   "id": "97a74629",
   "metadata": {},
   "source": [
    "### Перевірити гіпотезу про закон розподілу, побудувати гістограму."
   ]
  },
  {
   "cell_type": "markdown",
   "id": "c3bbb7e2",
   "metadata": {},
   "source": [
    "Створимо функцію, що перевіряє гіпотезу про рівномірний закон розподілу. Використовуємо функцію з бібіліотеки scipy - kstest() з параметром 'uniform': "
   ]
  },
  {
   "cell_type": "code",
   "execution_count": 13,
   "id": "dcd07270",
   "metadata": {},
   "outputs": [],
   "source": [
    "def test(data):\n",
    "    d, p = kstest(data, 'uniform')\n",
    "    print('p = ', p)\n",
    "    return p > 0.05"
   ]
  },
  {
   "cell_type": "code",
   "execution_count": 14,
   "id": "e7311a80",
   "metadata": {
    "scrolled": true
   },
   "outputs": [
    {
     "name": "stdout",
     "output_type": "stream",
     "text": [
      "p =  0.5953038572914252\n",
      "The distribution is uniform: True\n"
     ]
    }
   ],
   "source": [
    "print(f'The distribution is uniform: {test(R)}')"
   ]
  },
  {
   "cell_type": "markdown",
   "id": "16ffee06",
   "metadata": {},
   "source": [
    "Будуємо гістограму: "
   ]
  },
  {
   "cell_type": "code",
   "execution_count": 15,
   "id": "ebd35b0c",
   "metadata": {},
   "outputs": [
    {
     "data": {
      "image/png": "[encoded data removed]",
      "text/plain": [
       "<Figure size 720x432 with 1 Axes>"
      ]
     },
     "metadata": {
      "needs_background": "light"
     },
     "output_type": "display_data"
    }
   ],
   "source": [
    "fig, ax = plt.subplots()\n",
    "plt.hist(R, bins=steps, color='#ffff80', edgecolor='black')\n",
    "plt.xticks(steps, rotation='vertical')\n",
    "fig.set_figwidth(10)\n",
    "fig.set_figheight(6)\n",
    "plt.show()"
   ]
  }
 ],
 "metadata": {
  "kernelspec": {
   "display_name": "myenv",
   "language": "python",
   "name": "myenv"
  },
  "language_info": {
   "codemirror_mode": {
    "name": "ipython",
    "version": 3
   },
   "file_extension": ".py",
   "mimetype": "text/x-python",
   "name": "python",
   "nbconvert_exporter": "python",
   "pygments_lexer": "ipython3",
   "version": "3.9.1"
  }
 },
 "nbformat": 4,
 "nbformat_minor": 5
}
