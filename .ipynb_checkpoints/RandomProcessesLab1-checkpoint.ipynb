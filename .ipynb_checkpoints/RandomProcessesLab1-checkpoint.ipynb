{
 "cells": [
  {
   "cell_type": "code",
   "execution_count": 1,
   "id": "fb8c7744",
   "metadata": {},
   "outputs": [],
   "source": [
    "import numpy as np\n",
    "import matplotlib.pyplot as plt\n",
    "import math\n",
    "import pandas as pd"
   ]
  },
  {
   "cell_type": "code",
   "execution_count": 2,
   "id": "630e8653",
   "metadata": {},
   "outputs": [],
   "source": [
    "n = 1000000"
   ]
  },
  {
   "cell_type": "markdown",
   "id": "799c41cf",
   "metadata": {},
   "source": [
    "# Gaussian distribution"
   ]
  },
  {
   "cell_type": "code",
   "execution_count": null,
   "id": "52fcc8b8",
   "metadata": {},
   "outputs": [],
   "source": [
    "mu = float(input('Enter mu:'))\n",
    "sigma = float(input('Enter sigma:'))"
   ]
  },
  {
   "cell_type": "code",
   "execution_count": null,
   "id": "8a5b55c3",
   "metadata": {},
   "outputs": [],
   "source": [
    "s_gauss = np.random.normal(mu, sigma, size=n)"
   ]
  },
  {
   "cell_type": "code",
   "execution_count": null,
   "id": "c288fa46",
   "metadata": {},
   "outputs": [],
   "source": [
    "plt.scatter(range(n), s_gauss)\n",
    "plt.show()"
   ]
  },
  {
   "cell_type": "code",
   "execution_count": null,
   "id": "17d671bf",
   "metadata": {},
   "outputs": [],
   "source": [
    "count, bins, ignored = plt.hist(s_gauss, 30, density=True)\n",
    "plt.plot(bins, 1 / (sigma * np.sqrt(2 * np.pi)) *\n",
    "        np.exp(- (bins - mu) ** 2 / (2 * sigma ** 2)),\n",
    "        linewidth=2, color='r')\n",
    "plt.title('Gaussian')\n",
    "plt.xlabel('x values')\n",
    "plt.ylabel('PDF')\n",
    "plt.show()"
   ]
  },
  {
   "cell_type": "code",
   "execution_count": null,
   "id": "f7c542c6",
   "metadata": {},
   "outputs": [],
   "source": [
    "print(f'Mathematical expectation: {np.mean(s_gauss)}\\n' \\\n",
    "      f'The variance: {np.var(s_gauss)}')"
   ]
  },
  {
   "cell_type": "markdown",
   "id": "892d34f6",
   "metadata": {},
   "source": [
    "# Weibull distribution"
   ]
  },
  {
   "cell_type": "code",
   "execution_count": null,
   "id": "3bd6365a",
   "metadata": {},
   "outputs": [],
   "source": [
    "k = float(input('Enter parameter k: '))\n",
    "l = float(input('Enter parameter lambda: '))"
   ]
  },
  {
   "cell_type": "code",
   "execution_count": null,
   "id": "6acfa76f",
   "metadata": {},
   "outputs": [],
   "source": [
    "s_weib = np.random.weibull(k, n)"
   ]
  },
  {
   "cell_type": "code",
   "execution_count": null,
   "id": "e91a50ef",
   "metadata": {},
   "outputs": [],
   "source": [
    "plt.scatter(range(n), s_weib)\n",
    "plt.show()"
   ]
  },
  {
   "cell_type": "code",
   "execution_count": null,
   "id": "63552e65",
   "metadata": {},
   "outputs": [],
   "source": [
    "count, bins, ignored = plt.hist(s_weib, 30, density=True)\n",
    "plt.plot(bins, (k / l) * (bins / l) ** (k - 1) * np.exp(-(bins / l) ** k),\n",
    "        linewidth=2, color='r')\n",
    "plt.title('Weibull')\n",
    "plt.xlabel('x values')\n",
    "plt.ylabel('PDF')\n",
    "plt.show()"
   ]
  },
  {
   "cell_type": "markdown",
   "id": "3c19f0cf",
   "metadata": {},
   "source": [
    "# Rayleigh distribution"
   ]
  },
  {
   "cell_type": "code",
   "execution_count": null,
   "id": "3833139e",
   "metadata": {},
   "outputs": [],
   "source": [
    "sigma_r = float(input('Enter sigma: '))"
   ]
  },
  {
   "cell_type": "code",
   "execution_count": null,
   "id": "13982eed",
   "metadata": {},
   "outputs": [],
   "source": [
    "s_rayl = np.random.rayleigh(sigma_r, size=n)"
   ]
  },
  {
   "cell_type": "code",
   "execution_count": null,
   "id": "0e022760",
   "metadata": {},
   "outputs": [],
   "source": [
    "plt.scatter(range(n), s_rayl)\n",
    "plt.show()"
   ]
  },
  {
   "cell_type": "code",
   "execution_count": 1,
   "id": "6cc45e2d",
   "metadata": {},
   "outputs": [
    {
     "ename": "NameError",
     "evalue": "name 'plt' is not defined",
     "output_type": "error",
     "traceback": [
      "\u001b[0;31m---------------------------------------------------------------------------\u001b[0m",
      "\u001b[0;31mNameError\u001b[0m                                 Traceback (most recent call last)",
      "\u001b[0;32m<ipython-input-1-c73d29531efb>\u001b[0m in \u001b[0;36m<module>\u001b[0;34m\u001b[0m\n\u001b[0;32m----> 1\u001b[0;31m \u001b[0mcount\u001b[0m\u001b[0;34m,\u001b[0m \u001b[0mbins\u001b[0m\u001b[0;34m,\u001b[0m \u001b[0mignored\u001b[0m \u001b[0;34m=\u001b[0m \u001b[0mplt\u001b[0m\u001b[0;34m.\u001b[0m\u001b[0mhist\u001b[0m\u001b[0;34m(\u001b[0m\u001b[0ms_rayl\u001b[0m\u001b[0;34m,\u001b[0m \u001b[0;36m200\u001b[0m\u001b[0;34m,\u001b[0m \u001b[0mdensity\u001b[0m\u001b[0;34m=\u001b[0m\u001b[0;32mTrue\u001b[0m\u001b[0;34m)\u001b[0m\u001b[0;34m\u001b[0m\u001b[0;34m\u001b[0m\u001b[0m\n\u001b[0m\u001b[1;32m      2\u001b[0m plt.plot(bins, (bins / sigma_r ** 2) * np.exp((- bins ** 2) / (2 * sigma_r ** 2)),\n\u001b[1;32m      3\u001b[0m         linewidth=2, color='r')\n\u001b[1;32m      4\u001b[0m \u001b[0mplt\u001b[0m\u001b[0;34m.\u001b[0m\u001b[0mtitle\u001b[0m\u001b[0;34m(\u001b[0m\u001b[0;34m'Rayleigh'\u001b[0m\u001b[0;34m)\u001b[0m\u001b[0;34m\u001b[0m\u001b[0;34m\u001b[0m\u001b[0m\n\u001b[1;32m      5\u001b[0m \u001b[0mplt\u001b[0m\u001b[0;34m.\u001b[0m\u001b[0mxlabel\u001b[0m\u001b[0;34m(\u001b[0m\u001b[0;34m'x values'\u001b[0m\u001b[0;34m)\u001b[0m\u001b[0;34m\u001b[0m\u001b[0;34m\u001b[0m\u001b[0m\n",
      "\u001b[0;31mNameError\u001b[0m: name 'plt' is not defined"
     ]
    }
   ],
   "source": [
    "count, bins, ignored = plt.hist(s_rayl, 200, density=True)\n",
    "plt.plot(bins, (bins / sigma_r ** 2) * np.exp((- bins ** 2) / (2 * sigma_r ** 2)),\n",
    "        linewidth=2, color='r')\n",
    "plt.title('Rayleigh')\n",
    "plt.xlabel('x values')\n",
    "plt.ylabel('PDF')\n",
    "plt.show()"
   ]
  },
  {
   "cell_type": "code",
   "execution_count": null,
   "id": "2c5b540f",
   "metadata": {},
   "outputs": [],
   "source": [
    "print(f'Mathematical expectation: {np.mean(s_rayl)}\\n' \\\n",
    "      f'The variance: {np.var(s_rayl)}')"
   ]
  },
  {
   "cell_type": "markdown",
   "id": "1fa616dd",
   "metadata": {},
   "source": [
    "# Log-normal distribution"
   ]
  },
  {
   "cell_type": "code",
   "execution_count": null,
   "id": "cbb3f7c4",
   "metadata": {},
   "outputs": [],
   "source": [
    "mu_l = float(input('Enter mu: '))\n",
    "sigma_l = float(input('Enter sigma: '))"
   ]
  },
  {
   "cell_type": "code",
   "execution_count": null,
   "id": "6cf90a86",
   "metadata": {},
   "outputs": [],
   "source": [
    "s_logn = np.random.lognormal(mu_l, sigma_l, size=n)"
   ]
  },
  {
   "cell_type": "code",
   "execution_count": null,
   "id": "aa004ea4",
   "metadata": {},
   "outputs": [],
   "source": [
    "plt.scatter(range(n), s_logn)\n",
    "plt.show()"
   ]
  },
  {
   "cell_type": "code",
   "execution_count": null,
   "id": "5267603a",
   "metadata": {},
   "outputs": [],
   "source": [
    "count, bins, ignored = plt.hist(s_logn, 150, density=True, align='mid')\n",
    "pdf = (np.exp(-(np.log(bins) - mu_l) ** 2 / (2 * sigma_l ** 2))\n",
    "        / (bins * sigma_l * np.sqrt(2 * np.pi)))\n",
    "plt.plot(bins, pdf, linewidth=1, color='r')\n",
    "plt.axis('tight')\n",
    "plt.title('Log-normal')\n",
    "plt.xlabel('x values')\n",
    "plt.ylabel('PDF')\n",
    "plt.show()"
   ]
  },
  {
   "cell_type": "code",
   "execution_count": null,
   "id": "dd508666",
   "metadata": {},
   "outputs": [],
   "source": [
    "print(f'Mathematical expectation: {np.mean(s_logn)}\\n' \\\n",
    "           f'The variance: {np.var(s_logn)}')"
   ]
  },
  {
   "cell_type": "code",
   "execution_count": null,
   "id": "61574645",
   "metadata": {},
   "outputs": [],
   "source": []
  }
 ],
 "metadata": {
  "kernelspec": {
   "display_name": "Python 3 (ipykernel)",
   "language": "python",
   "name": "python3"
  },
  "language_info": {
   "codemirror_mode": {
    "name": "ipython",
    "version": 3
   },
   "file_extension": ".py",
   "mimetype": "text/x-python",
   "name": "python",
   "nbconvert_exporter": "python",
   "pygments_lexer": "ipython3",
   "version": "3.9.1"
  }
 },
 "nbformat": 4,
 "nbformat_minor": 5
}
